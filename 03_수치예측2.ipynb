{
  "nbformat": 4,
  "nbformat_minor": 0,
  "metadata": {
    "colab": {
      "name": "03 수치예측2",
      "provenance": [],
      "include_colab_link": true
    },
    "kernelspec": {
      "name": "python3",
      "display_name": "Python 3"
    }
  },
  "cells": [
    {
      "cell_type": "markdown",
      "metadata": {
        "id": "view-in-github",
        "colab_type": "text"
      },
      "source": [
        "<a href=\"https://colab.research.google.com/github/on1ystar/Do-it-DL/blob/master/03_%EC%88%98%EC%B9%98%EC%98%88%EC%B8%A12.ipynb\" target=\"_parent\"><img src=\"https://colab.research.google.com/assets/colab-badge.svg\" alt=\"Open In Colab\"/></a>"
      ]
    },
    {
      "cell_type": "markdown",
      "metadata": {
        "id": "OtE2YWi61ru6",
        "colab_type": "text"
      },
      "source": [
        "# 03-3 손실 함수와 경사 하강법\n",
        "\n",
        "---"
      ]
    },
    {
      "cell_type": "markdown",
      "metadata": {
        "id": "3ESZRGIHEViR",
        "colab_type": "text"
      },
      "source": [
        "## 손실 함수  \n",
        "\n",
        "**예상한 값과 실제 타깃값의 차이를 함수로 정의한 것**으로 보통 ***'제곱 오차 '*** 를 손실 함수로 사용한다.  \n",
        "\n",
        "***제곱 오차(squared error)***는 다음과 같다.  \n",
        "\n",
        "$$SE = (y-\\hat{y})^2$$  \n",
        "\n",
        "경사 하강법은 이런 식으로 <u>정의된 손실 함수의 최소가 되는 지점을 찾아가는 방법</u>이다.  \n",
        "\n",
        " 위 식을 전개해 보면 가중치 w와 절편 b에 대한 2차식으로 각각 나타낼 수 있다.  \n",
        "\n",
        "$$(y-\\hat{y})^2 = y^2 + (x^2w^2 + b^2 + 2xwb) - 2y(xw+b)$$\n",
        "$$ = x^2w^2 + (2xb - 2xy)w + y^2 + b^2 -2yb$$\n",
        "$$ = b^2 + (2xw - 2y)b + y^2 + x^2w^2 - 2xyw$$\n",
        "\n",
        "식을 보면 w^2의 계수와 b^2의 계수가 항상 양수이므로 아래로 볼록한 형태의 2차 함수 그래프가 그려진다.  \n",
        "\n",
        "![image.png](img/손실함수 그림 1.png)
      ]
    },
    {
      "cell_type": "markdown",
      "metadata": {
        "id": "RfMfIZgFM5Pf",
        "colab_type": "text"
      },
      "source": [
        "## 경사 하강법 (Gradient descent)\n",
        "경사 하강법은 위 그래프에서 최소값인 접선의 기울기가 0이 되는 지점, 즉 미분값이 0인 점을 찾는 방법이다.  \n",
        "방법은 임의의 w 또는 b인 점에서 시작해 그 점에서의 접선의 기울기인 편미분 값을 빼나가는 것이다.  \n",
        "\n",
        "![image.png](img/경사하강법 그림1.png)
      ]
    },
    {
      "cell_type": "markdown",
      "metadata": {
        "id": "1uCoFc7cQogL",
        "colab_type": "text"
      },
      "source": [
        "먼저 w에 대해 편미분한 식은 다음과 같다.  \n",
        "\n",
        "$$\\frac{\\partial (y-\\hat{y})^2}{\\partial w} = 2(y-\\hat{y})(-\\frac {\\partial\\hat{y}}{\\partial w}) = -2(y-\\hat{y})x$$  \n",
        "\n",
        "이때 깔끔한 식을 위해 보통 초기 제곱 오차 공식을\n",
        "\n",
        "$$\\frac {1}{2}(y-\\hat{y})^2$$  \n",
        "\n",
        "로 정의하여 결과가  \n",
        "\n",
        "$$-(y-\\hat{y})x$$  \n",
        "\n",
        "가 되도록 한다. 이는 손실 함수에 상수를 곱하거나 나누어도 최종 모델의 가중치나 절편에 영향을 주지 않기 때문이다.  \n",
        "위 결과가 가중치에 대한 제곱 오차(손실 함수)의 변화율이다. 이제 가중치 업데이트를 위해 w에서 빼면  \n",
        "\n",
        "$$w = w + (y-\\hat{y})x$$  \n",
        "\n",
        "식이 유도된다.이는 앞의 오차 역전파 식과 동일한 식이 된다.  \n",
        "\n",
        "절편 역시 식을 전개해 보면 동일해진다.  \n",
        "\n",
        "이런 식으로 w와 b를 업데이트 해 나가다 보면 각각의 변화율 값이 점점 작아지면서 결과적으로 손실 함수의 최소값에 근접하게 된다.  \n",
        "\n",
        "여기서 변화율을 ***경사(gradient)***라 칭하며, 이 경사가 점점 완만해지며 아래로 내려가는 모습에 의해 경사 하강법이라 한다."
      ]
    },
    {
      "cell_type": "markdown",
      "metadata": {
        "id": "9dXYQDddXFWK",
        "colab_type": "text"
      },
      "source": [
        "# 03-4 선형 회귀를 위한 뉴런 클래스\n",
        "\n",
        "\n",
        "---\n",
        "\n"
      ]
    },
    {
      "cell_type": "markdown",
      "metadata": {
        "id": "hKRjBze3XZge",
        "colab_type": "text"
      },
      "source": [
        "## 1. \\_\\_init()\\_\\_ 메서드  \n",
        "\n"
      ]
    },
    {
      "cell_type": "code",
      "metadata": {
        "id": "qVJlPVWdZ9Bn",
        "colab_type": "code",
        "colab": {}
      },
      "source": [
        "class Neuron:\n",
        "  \n",
        "  def __init__(self):\n",
        "    self.w = 1.0\n",
        "    self.b = 1.0\n"
      ],
      "execution_count": 0,
      "outputs": []
    },
    {
      "cell_type": "markdown",
      "metadata": {
        "id": "TTGDNA1_aFGk",
        "colab_type": "text"
      },
      "source": [
        "## 2. 정방향 계산  \n",
        "\n",
        "3개의 입력 신호(w, b, x)를 가지고 예측값(y-hat)을 계산하는 것"
      ]
    },
    {
      "cell_type": "code",
      "metadata": {
        "id": "bWykCdDQavNz",
        "colab_type": "code",
        "colab": {}
      },
      "source": [
        "  def forpass(self, x):\n",
        "    y_hat = self.w * x + self.b\n",
        "    return y_hat\n",
        "    "
      ],
      "execution_count": 0,
      "outputs": []
    },
    {
      "cell_type": "markdown",
      "metadata": {
        "id": "Mby_oOAMa8yf",
        "colab_type": "text"
      },
      "source": [
        "## 3. 역방향 계산  \n",
        "\n",
        "gradient를 이용해 w와 b을 업데이트 하는 것  \n",
        "즉, 오차가 역방향으로 전파되기 때문에 ***오차 역전파(backpropagation)***라는 말을 사용  \n"
      ]
    },
    {
      "cell_type": "code",
      "metadata": {
        "id": "RKEIrR4ecCQC",
        "colab_type": "code",
        "colab": {}
      },
      "source": [
        "  def backprop(self, x, err):\n",
        "    w_grad = x * err\n",
        "    b_grad = 1 * err\n",
        "    return w_grad, b_grad"
      ],
      "execution_count": 0,
      "outputs": []
    },
    {
      "cell_type": "markdown",
      "metadata": {
        "id": "m0bl1ku3iJNp",
        "colab_type": "text"
      },
      "source": [
        "## 4. 훈련을 위한 fit() 메서드  \n",
        "\n"
      ]
    },
    {
      "cell_type": "code",
      "metadata": {
        "id": "m1a2wl2miP6d",
        "colab_type": "code",
        "colab": {}
      },
      "source": [
        "  def fit(self, x, y, epochs = 100):\n",
        "    for i in range(epochs):\n",
        "      for x_i, y_i in zip(x, y):\n",
        "        y_hat = self.forpass(x_i)\n",
        "        err = -(y_i - y_hat)\n",
        "        w_grad, b_grad = self.backprop(x_i, err)\n",
        "        self.w -= w_grad\n",
        "        self.b -= b_grad"
      ],
      "execution_count": 0,
      "outputs": []
    },
    {
      "cell_type": "markdown",
      "metadata": {
        "id": "6YFcZ6LikZDt",
        "colab_type": "text"
      },
      "source": [
        "## 5. 모델 훈련  "
      ]
    },
    {
      "cell_type": "code",
      "metadata": {
        "id": "LQQoAzG3ki0I",
        "colab_type": "code",
        "colab": {}
      },
      "source": [
        "from sklearn.datasets import load_diabetes\n",
        "\n",
        "class Neuron:\n",
        "  \n",
        "  def __init__(self):\n",
        "    self.w = 1.0\n",
        "    self.b = 1.0\n",
        "\n",
        "  def forpass(self, x):\n",
        "    y_hat = self.w * x + self.b\n",
        "    return y_hat\n",
        "\n",
        "  def backprop(self, x, err):\n",
        "    w_grad = x * err\n",
        "    b_grad = 1 * err\n",
        "    return w_grad, b_grad\n",
        "\n",
        "  def fit(self, x, y, epochs = 100):\n",
        "    for i in range(epochs):\n",
        "      for x_i, y_i in zip(x, y):\n",
        "        y_hat = self.forpass(x_i)\n",
        "        err = -(y_i - y_hat)\n",
        "        w_grad, b_grad = self.backprop(x_i, err)\n",
        "        self.w -= w_grad\n",
        "        self.b -= b_grad\n",
        "        \n",
        "diabetes = load_diabetes()\n",
        "x = diabetes.data[:, 2]\n",
        "y = diabetes.target\n",
        "\n",
        "neuron = Neuron()\n",
        "neuron.fit(x, y)"
      ],
      "execution_count": 0,
      "outputs": []
    },
    {
      "cell_type": "markdown",
      "metadata": {
        "id": "TnJnqGnDlGe4",
        "colab_type": "text"
      },
      "source": [
        "## 6. 시각화\n"
      ]
    },
    {
      "cell_type": "code",
      "metadata": {
        "id": "gV0JItg0ly6H",
        "colab_type": "code",
        "colab": {
          "base_uri": "https://localhost:8080/",
          "height": 279
        },
        "outputId": "e0893af4-6b5e-4cad-8dcb-b9a473e25eea"
      },
      "source": [
        "import matplotlib.pyplot as plt\n",
        "\n",
        "plt.scatter(x, y)\n",
        "pt1 = (-0.1, -0.1*neuron.w + neuron.b)\n",
        "pt2 = (0.15, 0.15*neuron.w + neuron.b)\n",
        "plt.plot([pt1[0], pt2[0]], [pt1[1], pt2[1]])\n",
        "plt.xlabel('x')\n",
        "plt.ylabel('y')\n",
        "plt.show()"
      ],
      "execution_count": 12,
      "outputs": [
        {
          "output_type": "display_data",
          "data": {
            "image/png": "iVBORw0KGgoAAAANSUhEUgAAAYUAAAEGCAYAAACKB4k+AAAABHNCSVQICAgIfAhkiAAAAAlwSFlz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\n",
            "text/plain": [
              "<Figure size 432x288 with 1 Axes>"
            ]
          },
          "metadata": {
            "tags": []
          }
        }
      ]
    },
    {
      "cell_type": "code",
      "metadata": {
        "id": "UxT3oDDYmj5T",
        "colab_type": "code",
        "colab": {
          "base_uri": "https://localhost:8080/",
          "height": 279
        },
        "outputId": "b27da45b-0d88-4223-91c7-b131636be74b"
      },
      "source": [
        "neuron.fit(x, y, epochs=500)\n",
        "\n",
        "plt.scatter(x, y)\n",
        "pt1 = (-0.1, -0.1*neuron.w + neuron.b)\n",
        "pt2 = (0.15, 0.15*neuron.w + neuron.b)\n",
        "plt.plot([pt1[0], pt2[0]], [pt1[1], pt2[1]])\n",
        "plt.xlabel('x')\n",
        "plt.ylabel('y')\n",
        "plt.show()"
      ],
      "execution_count": 13,
      "outputs": [
        {
          "output_type": "display_data",
          "data": {
            "image/png": "iVBORw0KGgoAAAANSUhEUgAAAYUAAAEGCAYAAACKB4k+AAAABHNCSVQICAgIfAhkiAAAAAlwSFlz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\n",
            "text/plain": [
              "<Figure size 432x288 with 1 Axes>"
            ]
          },
          "metadata": {
            "tags": []
          }
        }
      ]
    }
  ]
}
